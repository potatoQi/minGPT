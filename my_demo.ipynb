{
 "cells": [
  {
   "cell_type": "code",
   "execution_count": 1,
   "metadata": {},
   "outputs": [
    {
     "name": "stdout",
     "output_type": "stream",
     "text": [
      "某样本的x: tensor([0, 2, 1, 1, 0, 2, 0, 0, 1, 1, 2])\n",
      "某样本的y: tensor([-1, -1, -1, -1, -1,  0,  0,  1,  1,  2,  2])\n",
      "训练集样本数量10000, 测试集样本数量10000\n"
     ]
    }
   ],
   "source": [
    "# 固定种子\n",
    "from my_mingpt.utils import set_seed\n",
    "set_seed(42)\n",
    "\n",
    "# 获得数据集\n",
    "from torch.utils.data import Dataset\n",
    "import pickle\n",
    "import torch\n",
    "class SortDataset(Dataset):\n",
    "    \"\"\" \n",
    "    Dataset for the Sort problem. E.g. for problem length 6:\n",
    "    Input: 0 0 2 1 0 1 -> Output: 0 0 0 1 1 2\n",
    "    Which will feed into the transformer concatenated as:\n",
    "    input:  0 0 2 1 0 1 0 0 0 1 1\n",
    "    output: I I I I I 0 0 0 1 1 2\n",
    "    where I is \"ignore\", as the transformer is reading the input sequence\n",
    "    \"\"\"\n",
    "\n",
    "    def __init__(self, split, length=6, num_digits=3):\n",
    "        assert split in {'train', 'test'}\n",
    "        self.split = split\n",
    "        self.length = length\n",
    "        self.num_digits = num_digits\n",
    "    \n",
    "    def __len__(self):\n",
    "        return 10000 # ...\n",
    "    \n",
    "    def get_vocab_size(self):\n",
    "        return self.num_digits\n",
    "    \n",
    "    def get_block_size(self):\n",
    "        # the length of the sequence that will feed into transformer, \n",
    "        # containing concatenated input and the output, but -1 because\n",
    "        # the transformer starts making predictions at the last input element\n",
    "        return self.length * 2 - 1\n",
    "\n",
    "    def __getitem__(self, idx):\n",
    "        \n",
    "        # use rejection sampling to generate an input example from the desired split\n",
    "        while True:\n",
    "            # generate some random integers\n",
    "            inp = torch.randint(self.num_digits, size=(self.length,), dtype=torch.long)\n",
    "            # half of the time let's try to boost the number of examples that \n",
    "            # have a large number of repeats, as this is what the model seems to struggle\n",
    "            # with later in training, and they are kind of rate\n",
    "            if torch.rand(1).item() < 0.5:\n",
    "                if inp.unique().nelement() > self.length // 2:\n",
    "                    # too many unqiue digits, re-sample\n",
    "                    continue\n",
    "            # figure out if this generated example is train or test based on its hash\n",
    "            h = hash(pickle.dumps(inp.tolist()))\n",
    "            inp_split = 'test' if h % 4 == 0 else 'train' # designate 25% of examples as test\n",
    "            if inp_split == self.split:\n",
    "                break # ok\n",
    "        \n",
    "        # solve the task: i.e. sort\n",
    "        sol = torch.sort(inp)[0]\n",
    "\n",
    "        # concatenate the problem specification and the solution\n",
    "        cat = torch.cat((inp, sol), dim=0)\n",
    "\n",
    "        # the inputs to the transformer will be the offset sequence\n",
    "        x = cat[:-1].clone()\n",
    "        y = cat[1:].clone()\n",
    "        # we only want to predict at output locations, mask out the loss at the input locations\n",
    "        y[:self.length-1] = -1\n",
    "        return x, y\n",
    "    \n",
    "# print an example instance of the dataset\n",
    "train_data = SortDataset('train')\n",
    "test_data = SortDataset('test')\n",
    "x, y = train_data[0]\n",
    "print('某样本的x:', x)\n",
    "print('某样本的y:', y)\n",
    "print(f'训练集样本数量{len(train_data)}, 测试集样本数量{len(test_data)}')"
   ]
  },
  {
   "cell_type": "code",
   "execution_count": 2,
   "metadata": {},
   "outputs": [
    {
     "name": "stdout",
     "output_type": "stream",
     "text": [
      "默认配置参数:\n",
      "n_layer: None\n",
      "n_head: None\n",
      "n_embd: None\n",
      "vocab_size: None\n",
      "block_size: None\n",
      "embd_pdrop: 0.1\n",
      "resid_pdrop: 0.1\n",
      "atten_pdrop: 0.1\n",
      "\n",
      "设置完后的配置:\n",
      "n_layer: 3\n",
      "n_head: 3\n",
      "n_embd: 48\n",
      "vocab_size: 3\n",
      "block_size: 11\n",
      "embd_pdrop: 0.1\n",
      "resid_pdrop: 0.1\n",
      "atten_pdrop: 0.1\n",
      "\n"
     ]
    }
   ],
   "source": [
    "# 创建模型\n",
    "from my_mingpt.model import minGPT\n",
    "model_cfg = minGPT.get_default_config()\n",
    "print('默认配置参数:')\n",
    "print(model_cfg)\n",
    "cfg = {\n",
    "    'n_layer': 3,\n",
    "    'n_head': 3,\n",
    "    'n_embd': 48,\n",
    "    'vocab_size': train_data.get_vocab_size(),\n",
    "    'block_size': train_data.get_block_size(),\n",
    "}\n",
    "model_cfg.merge_from_dict(cfg)\n",
    "print('设置完后的配置:')\n",
    "print(model_cfg)\n",
    "\n",
    "model = minGPT(model_cfg)"
   ]
  },
  {
   "cell_type": "code",
   "execution_count": 3,
   "metadata": {},
   "outputs": [
    {
     "name": "stdout",
     "output_type": "stream",
     "text": [
      "默认训练参数:\n",
      "device: auto\n",
      "Epochs: None\n",
      "batch_size: 64\n",
      "grad_norm_clip: 1.0\n",
      "\n",
      "设置完后的训练参数:\n",
      "device: cuda\n",
      "Epochs: 10\n",
      "batch_size: 64\n",
      "grad_norm_clip: 1.0\n",
      "\n",
      "Epoch: 1 --------------------------------\n",
      "\n",
      "loss:   1.11 | 64/10000\n",
      "loss:   0.13 | 6464/10000\n",
      "loss:   0.17 | 10000/10000\n",
      "Epoch: 2 --------------------------------\n",
      "\n",
      "loss:   0.07 | 64/10000\n",
      "loss:   0.03 | 6464/10000\n",
      "loss:   0.06 | 10000/10000\n",
      "Epoch: 3 --------------------------------\n",
      "\n",
      "loss:   0.02 | 64/10000\n",
      "loss:   0.04 | 6464/10000\n",
      "loss:   0.01 | 10000/10000\n",
      "Epoch: 4 --------------------------------\n",
      "\n",
      "loss:   0.03 | 64/10000\n",
      "loss:   0.01 | 6464/10000\n",
      "loss:   0.03 | 10000/10000\n",
      "Epoch: 5 --------------------------------\n",
      "\n",
      "loss:   0.02 | 64/10000\n",
      "loss:   0.03 | 6464/10000\n",
      "loss:   0.01 | 10000/10000\n",
      "Epoch: 6 --------------------------------\n",
      "\n",
      "loss:   0.01 | 64/10000\n",
      "loss:   0.06 | 6464/10000\n",
      "loss:   0.02 | 10000/10000\n",
      "Epoch: 7 --------------------------------\n",
      "\n",
      "loss:   0.01 | 64/10000\n",
      "loss:   0.02 | 6464/10000\n",
      "loss:   0.00 | 10000/10000\n",
      "Epoch: 8 --------------------------------\n",
      "\n",
      "loss:   0.01 | 64/10000\n",
      "loss:   0.01 | 6464/10000\n",
      "loss:   0.00 | 10000/10000\n",
      "Epoch: 9 --------------------------------\n",
      "\n",
      "loss:   0.01 | 64/10000\n",
      "loss:   0.01 | 6464/10000\n",
      "loss:   0.03 | 10000/10000\n",
      "Epoch: 10 --------------------------------\n",
      "\n",
      "loss:   0.02 | 64/10000\n",
      "loss:   0.02 | 6464/10000\n",
      "loss:   0.00 | 10000/10000\n"
     ]
    }
   ],
   "source": [
    "from my_mingpt.train import Trainer\n",
    "train_cfg = Trainer.get_default_config()\n",
    "print('默认训练参数:')\n",
    "print(train_cfg)\n",
    "cfg = {\n",
    "    'device': 'cuda',\n",
    "    'Epochs': 10,\n",
    "}\n",
    "train_cfg.merge_from_dict(cfg)\n",
    "print('设置完后的训练参数:')\n",
    "print(train_cfg)\n",
    "\n",
    "optimizer = torch.optim.Adam(model.parameters(), lr=5e-4)\n",
    "trainer = Trainer(train_cfg, model, optimizer, train_data, test_data)\n",
    "trainer.run_train()"
   ]
  },
  {
   "cell_type": "code",
   "execution_count": 4,
   "metadata": {},
   "outputs": [
    {
     "name": "stdout",
     "output_type": "stream",
     "text": [
      "acc: 1.00\n"
     ]
    }
   ],
   "source": [
    "trainer.run_eval(train_data.length)"
   ]
  },
  {
   "cell_type": "code",
   "execution_count": 5,
   "metadata": {},
   "outputs": [
    {
     "name": "stdout",
     "output_type": "stream",
     "text": [
      "输入序列: tensor([[2, 0, 0, 2, 1, 0]], device='cuda:0')\n",
      "标准答案: tensor([0, 0, 0, 1, 2, 2], device='cuda:0')\n",
      "预测答案: tensor([[0, 0, 0, 1, 2, 2]], device='cuda:0')\n",
      "是否正确: tensor(True, device='cuda:0')\n"
     ]
    }
   ],
   "source": [
    "model.eval()\n",
    "\n",
    "n = train_data.length # naugy direct access shrug\n",
    "x = torch.randint(0, train_data.num_digits, (1,n,), dtype=torch.long).to(trainer.device)\n",
    "y = torch.sort(x[0])[0] # torch.sort() 会返回一个列表, [0] 是排序后的数组, [1] 是排序后元素的原下标\n",
    "\n",
    "pred = model.generate(x, n, do_sample=False)\n",
    "pred = pred[:, n:]\n",
    "\n",
    "print('输入序列:', x)\n",
    "print('标准答案:', y)\n",
    "print('预测答案:', pred)\n",
    "print('是否正确:', (pred == y).all())"
   ]
  }
 ],
 "metadata": {
  "kernelspec": {
   "display_name": "pytorch_learning",
   "language": "python",
   "name": "python3"
  },
  "language_info": {
   "codemirror_mode": {
    "name": "ipython",
    "version": 3
   },
   "file_extension": ".py",
   "mimetype": "text/x-python",
   "name": "python",
   "nbconvert_exporter": "python",
   "pygments_lexer": "ipython3",
   "version": "3.10.16"
  }
 },
 "nbformat": 4,
 "nbformat_minor": 2
}
